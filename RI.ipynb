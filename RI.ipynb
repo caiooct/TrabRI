{
 "cells": [
  {
   "cell_type": "code",
   "execution_count": 28,
   "metadata": {},
   "outputs": [],
   "source": [
    "import string\n",
    "import math\n",
    "from collections import OrderedDict\n",
    "import numpy as np"
   ]
  },
  {
   "cell_type": "code",
   "execution_count": 29,
   "metadata": {
    "scrolled": true
   },
   "outputs": [],
   "source": [
    "def multVet(d,q):\n",
    "    soma = 0\n",
    "    for i in range(0,len(q)):\n",
    "        soma += d[i]*q[i]\n",
    "    return soma\n",
    "def norma(v):\n",
    "    soma = 0\n",
    "    for i in range(0,len(v)):\n",
    "        soma += v[i]**2\n",
    "    return math.sqrt(soma)"
   ]
  },
  {
   "cell_type": "markdown",
   "metadata": {},
   "source": [
    "# adiciona as palavras no dicionário: voc"
   ]
  },
  {
   "cell_type": "code",
   "execution_count": 3,
   "metadata": {
    "scrolled": true
   },
   "outputs": [],
   "source": [
    "cfcs = ['cf74','cf75','cf76','cf77','cf78','cf79']\n",
    "listaInv = {}\n",
    "docs = []\n",
    "for i in range(0,6):\n",
    "    \n",
    "    arq = open('cfc/' + cfcs[i])\n",
    "    documentos = arq.read()\n",
    "    documentos = documentos.split('\\n\\n')\n",
    "    \n",
    "    for documento in documentos:\n",
    "        voc = {}\n",
    "        if \"\u001a\" in documento:\n",
    "            break\n",
    "        if len(documento) < 5:\n",
    "            #print('erro')\n",
    "            continue\n",
    "        else:\n",
    "            try:\n",
    "                autor = documento[documento.index('\\nAU')+3:documento.index('\\nTI')].split()\n",
    "            except:\n",
    "                autor = []\n",
    "                \n",
    "            try:\n",
    "                title = documento[documento.index('\\nTI')+3:documento.index('\\nSO')].split()\n",
    "            except:\n",
    "                title = []\n",
    "                \n",
    "#             try:\n",
    "#                 fonte = documento[documento.index('\\nSO')+3:documento.index('\\nMJ')].split()\n",
    "#             except:\n",
    "#                 fonte = []\n",
    "                \n",
    "            try:\n",
    "                mj = documento[documento.index('\\nMJ')+3:documento.index('\\nMN')].split()\n",
    "            except:\n",
    "                mj = []\n",
    "                \n",
    "            try:\n",
    "                mn = documento[documento.index('MN')+3:documento.index('\\nAB')].split()\n",
    "            except:\n",
    "                mn = documento[documento.index('MN')+3:documento.index('\\nEX')].split() \n",
    "                \n",
    "            try:\n",
    "                try:\n",
    "                    ab = documento[documento.index('\\nAB')+3:documento.index('\\nRF')].split()\n",
    "                except:\n",
    "                    ab = documento[documento.index('\\nAB')+3:documento.index('\\nCT')].split()                  \n",
    "            except:\n",
    "                try:\n",
    "                    ab = documento[documento.index('\\nEX')+3:documento.index('\\nRF')].split()\n",
    "                except:\n",
    "                    try:\n",
    "                        ab = documento[documento.index('\\nEX')+3:].split()\n",
    "                    except:\n",
    "                        ab = documento[documento.index('\\nAB')+3:].split()\n",
    "\n",
    "        \n",
    "            for w in title + mj + mn + ab + autor:\n",
    "                #print(w.strip(string.punctuation).lower())\n",
    "                w = w.strip(string.punctuation).lower()\n",
    "                if not w.isdigit():\n",
    "                    if w in voc:\n",
    "                        voc[w] += 1\n",
    "                    else:\n",
    "                        voc[w] = 1\n",
    "            for w in voc:\n",
    "                if w in listaInv:\n",
    "                    listaInv[w].append([len(docs), voc[w]])\n",
    "                else:\n",
    "                    listaInv[w] = [[len(docs),voc[w]]]\n",
    "            docs.append(voc)"
   ]
  },
  {
   "cell_type": "markdown",
   "metadata": {},
   "source": [
    "# gera o arquivo invertido"
   ]
  },
  {
   "cell_type": "code",
   "execution_count": 4,
   "metadata": {},
   "outputs": [],
   "source": [
    "arquivoInv = open('arqInv.dat','w')\n",
    "for i in range(0,len(docs)):\n",
    "    linha = str(i)\n",
    "    for w in docs[i]:\n",
    "        linha += ';' + w + ' ' + str(docs[i][w])\n",
    "    arquivoInv.writelines(linha + '\\n')\n",
    "arquivoInv.close()"
   ]
  },
  {
   "cell_type": "markdown",
   "metadata": {},
   "source": [
    "# calcula o idf de todas as palavras"
   ]
  },
  {
   "cell_type": "code",
   "execution_count": 5,
   "metadata": {
    "scrolled": true
   },
   "outputs": [],
   "source": [
    "idfs = {}\n",
    "for w in listaInv:\n",
    "    idfs[w] = math.log(len(docs)/len(listaInv[w]))"
   ]
  },
  {
   "cell_type": "markdown",
   "metadata": {},
   "source": [
    "# pergunta"
   ]
  },
  {
   "cell_type": "code",
   "execution_count": 22,
   "metadata": {
    "scrolled": false
   },
   "outputs": [
    {
     "name": "stdout",
     "output_type": "stream",
     "text": [
      "['what', 'is', 'the', 'incidence', 'of', 'and', 'treatment', 'for', 'hypertrophic', 'osteoarthropathy', 'in', 'cf', 'patients']\n"
     ]
    }
   ],
   "source": [
    "#pergunta = 'What are the effects of calcium on the physical properties of mucus from CF patients?'.strip(string.punctuation).lower().split()\n",
    "#pergunta = 'Are there abnormalities of taste in CF patients?'.strip(string.punctuation).lower().split()\n",
    "pergunta = 'What is the incidence of and treatment for hypertrophic osteoarthropathy in CF patients?'.strip(string.punctuation).lower().split()\n",
    "print(pergunta)"
   ]
  },
  {
   "cell_type": "markdown",
   "metadata": {},
   "source": [
    "# vetor da consulta"
   ]
  },
  {
   "cell_type": "code",
   "execution_count": 23,
   "metadata": {},
   "outputs": [
    {
     "name": "stdout",
     "output_type": "stream",
     "text": [
      "[4.126327608075152, 0.4821840478026066, 0.01791578864161524, 2.963176798269471, 0.013815741897601822, 0.04794306543178008, 2.0406555166446796, 0.5511769192895581, 6.023447592961033, 6.023447592961033, 0.035321947118565324, 1.216698033574572, 0.512710638461762]\n",
      "['what', 'is', 'the', 'incidence', 'of', 'and', 'treatment', 'for', 'hypertrophic', 'osteoarthropathy', 'in', 'cf', 'patients']\n"
     ]
    }
   ],
   "source": [
    "q = []\n",
    "palavrasLidas = []\n",
    "for w in pergunta:\n",
    "    if w not in palavrasLidas:\n",
    "        q.append(idfs[w] * pergunta.count(w))\n",
    "    palavrasLidas.append(w)\n",
    "pergunta = list(OrderedDict.fromkeys(pergunta))\n",
    "\n",
    "print(q)\n",
    "print(pergunta)"
   ]
  },
  {
   "cell_type": "markdown",
   "metadata": {},
   "source": [
    "# vetor documentos"
   ]
  },
  {
   "cell_type": "code",
   "execution_count": 24,
   "metadata": {},
   "outputs": [],
   "source": [
    "vetDocs = []\n",
    "\n",
    "for doc in docs:\n",
    "    v = []\n",
    "    for w in pergunta:\n",
    "        if w in doc:\n",
    "            v.append(doc[w] * idfs[w])\n",
    "        else:\n",
    "            v.append(0)\n",
    "    vetDocs.append(v)"
   ]
  },
  {
   "cell_type": "markdown",
   "metadata": {},
   "source": [
    "# similaridade"
   ]
  },
  {
   "cell_type": "code",
   "execution_count": 25,
   "metadata": {},
   "outputs": [],
   "source": [
    "sim = []\n",
    "for i in range(0,len(docs)):\n",
    "#     print(vetDocs[i])\n",
    "#     print(q)\n",
    "#     print(i)\n",
    "    try:\n",
    "        sim.append(multVet(vetDocs[i],q)/(norma(vetDocs[i])*norma(q)))\n",
    "    except:\n",
    "        sim.append(0)\n"
   ]
  },
  {
   "cell_type": "markdown",
   "metadata": {},
   "source": [
    "# TOP 5"
   ]
  },
  {
   "cell_type": "code",
   "execution_count": 27,
   "metadata": {},
   "outputs": [
    {
     "data": {
      "text/plain": [
       "array([ 734, 1030,  182, 1016,  578], dtype=int64)"
      ]
     },
     "execution_count": 27,
     "metadata": {},
     "output_type": "execute_result"
    }
   ],
   "source": [
    "a = [2,3,1,0,85,3,90,5,34,86]\n",
    "\n",
    "\n",
    "top_5_idx = np.argsort(sim)[-5:]\n",
    "top_5_idx"
   ]
  },
  {
   "cell_type": "markdown",
   "metadata": {},
   "source": [
    "# TESTEs"
   ]
  },
  {
   "cell_type": "code",
   "execution_count": 18,
   "metadata": {},
   "outputs": [
    {
     "data": {
      "text/plain": [
       "[[55, 1],\n",
       " [105, 1],\n",
       " [133, 1],\n",
       " [297, 1],\n",
       " [376, 1],\n",
       " [464, 1],\n",
       " [489, 1],\n",
       " [504, 1],\n",
       " [725, 1],\n",
       " [734, 1],\n",
       " [766, 1],\n",
       " [910, 1],\n",
       " [925, 1],\n",
       " [930, 1],\n",
       " [942, 1],\n",
       " [974, 1],\n",
       " [1030, 2],\n",
       " [1110, 1],\n",
       " [1147, 1],\n",
       " [1217, 1]]"
      ]
     },
     "execution_count": 18,
     "metadata": {},
     "output_type": "execute_result"
    }
   ],
   "source": [
    "listaInv['what']"
   ]
  },
  {
   "cell_type": "code",
   "execution_count": 89,
   "metadata": {},
   "outputs": [],
   "source": [
    "len(voc)\n",
    "\n",
    "\n",
    "a = list(OrderedDict.fromkeys(['caio','octavio','caio','aelmao']))"
   ]
  },
  {
   "cell_type": "code",
   "execution_count": 59,
   "metadata": {},
   "outputs": [
    {
     "data": {
      "text/plain": [
       "1239"
      ]
     },
     "execution_count": 59,
     "metadata": {},
     "output_type": "execute_result"
    }
   ],
   "source": [
    "len(docs)"
   ]
  },
  {
   "cell_type": "code",
   "execution_count": 125,
   "metadata": {},
   "outputs": [],
   "source": [
    "dox = []\n",
    "vc = {'caio': 2, 'oc': 1}\n",
    "dox.append(vc)"
   ]
  },
  {
   "cell_type": "code",
   "execution_count": 33,
   "metadata": {},
   "outputs": [
    {
     "data": {
      "text/plain": [
       "5.607872280770282"
      ]
     },
     "execution_count": 33,
     "metadata": {},
     "output_type": "execute_result"
    }
   ],
   "source": [
    "norma(vetDocs[507])"
   ]
  },
  {
   "cell_type": "code",
   "execution_count": null,
   "metadata": {},
   "outputs": [],
   "source": []
  }
 ],
 "metadata": {
  "kernelspec": {
   "display_name": "Python 3",
   "language": "python",
   "name": "python3"
  },
  "language_info": {
   "codemirror_mode": {
    "name": "ipython",
    "version": 3
   },
   "file_extension": ".py",
   "mimetype": "text/x-python",
   "name": "python",
   "nbconvert_exporter": "python",
   "pygments_lexer": "ipython3",
   "version": "3.6.5"
  },
  "widgets": {
   "application/vnd.jupyter.widget-state+json": {
    "state": {},
    "version_major": 2,
    "version_minor": 0
   }
  }
 },
 "nbformat": 4,
 "nbformat_minor": 2
}
