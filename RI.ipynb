{
 "cells": [
  {
   "cell_type": "code",
   "execution_count": 29,
   "metadata": {},
   "outputs": [],
   "source": [
    "import string\n",
    "import math"
   ]
  },
  {
   "cell_type": "code",
   "execution_count": 6,
   "metadata": {},
   "outputs": [],
   "source": [
    "def remove_punctuation(value):\n",
    "    result = \"\"\n",
    "    for c in value:\n",
    "        # If char is not punctuation, add it to the result.\n",
    "        if c not in string.punctuation:\n",
    "            result += c\n",
    "    return result"
   ]
  },
  {
   "cell_type": "markdown",
   "metadata": {},
   "source": [
    "# adiciona as palavras no dicionário: voc"
   ]
  },
  {
   "cell_type": "code",
   "execution_count": 13,
   "metadata": {
    "scrolled": false
   },
   "outputs": [],
   "source": [
    "cfcs = ['cf74','cf75','cf76','cf77','cf78','cf79']\n",
    "voc = {}\n",
    "for i in range(0,6):\n",
    "    arq = open('cfc/' + cfcs[i])\n",
    "    documentos = arq.read()\n",
    "    documentos = documentos.split('\\n\\n')\n",
    "    \n",
    "    for documento in documentos:\n",
    "        if \"\u001a\" in documento:\n",
    "            break\n",
    "        if len(documento) < 5:\n",
    "            #print('erro')\n",
    "            continue\n",
    "        else:\n",
    "#             try:\n",
    "#                 autor = documento[documento.index('\\nAU')+3:documento.index('\\nTI')].split()\n",
    "#             except:\n",
    "#                 autor = []\n",
    "                \n",
    "            try:\n",
    "                title = documento[documento.index('\\nTI')+3:documento.index('\\nSO')].split()\n",
    "            except:\n",
    "                title = []\n",
    "                \n",
    "#             try:\n",
    "#                 fonte = documento[documento.index('\\nSO')+3:documento.index('\\nMJ')].split()\n",
    "#             except:\n",
    "#                 fonte = []\n",
    "                \n",
    "            try:\n",
    "                mj = documento[documento.index('\\nMJ')+3:documento.index('\\nMN')].split()\n",
    "            except:\n",
    "                mj = []\n",
    "                \n",
    "            try:\n",
    "                mn = documento[documento.index('MN')+3:documento.index('\\nAB')].split()\n",
    "            except:\n",
    "                mn = documento[documento.index('MN')+3:documento.index('\\nEX')].split() \n",
    "                \n",
    "            try:\n",
    "                try:\n",
    "                    ab = documento[documento.index('\\nAB')+3:documento.index('\\nRF')].split()\n",
    "                except:\n",
    "                    ab = documento[documento.index('\\nAB')+3:documento.index('\\nCT')].split()                  \n",
    "            except:\n",
    "                try:\n",
    "                    ab = documento[documento.index('\\nEX')+3:documento.index('\\nRF')].split()\n",
    "                except:\n",
    "                    try:\n",
    "                        ab = documento[documento.index('\\nEX')+3:].split()\n",
    "                    except:\n",
    "                        ab = documento[documento.index('\\nAB')+3:].split()\n",
    "\n",
    "        \n",
    "            for w in title + mj + mn + ab:\n",
    "                #print(w.strip(string.punctuation).lower())\n",
    "                w = w.strip(string.punctuation).lower()\n",
    "                if not w.isdigit():\n",
    "                    try:\n",
    "                        voc[w][i][1] += 1\n",
    "                    except:\n",
    "                        voc[w] = []\n",
    "                        voc[w] = [['cf74', 0],['cf75', 0],['cf76', 0],['cf77', 0],['cf78', 0],['cf79', 0]]\n",
    "                        voc[w][i][1] += 1"
   ]
  },
  {
   "cell_type": "markdown",
   "metadata": {},
   "source": [
    "# gera o arquivo invertido"
   ]
  },
  {
   "cell_type": "code",
   "execution_count": 15,
   "metadata": {},
   "outputs": [],
   "source": [
    "arquivoInv = open('arqInv.dat','w')\n",
    "for k in voc:\n",
    "    linha = k\n",
    "    for i in voc[k]:\n",
    "        if not i[1] == 0:\n",
    "            linha += ';' + i[0] + ' ' + str(i[1])\n",
    "        else:\n",
    "            voc[k].remove(i)\n",
    "    arquivoInv.writelines(linha + '\\n')\n",
    "arquivoInv.close()"
   ]
  },
  {
   "cell_type": "markdown",
   "metadata": {},
   "source": [
    "# calcula o idf de todas as palavras"
   ]
  },
  {
   "cell_type": "code",
   "execution_count": 40,
   "metadata": {
    "scrolled": true
   },
   "outputs": [],
   "source": [
    "idfs = {}\n",
    "for x in voc:\n",
    "    idfs[x] = math.log(6.0/len(voc[x]))"
   ]
  },
  {
   "cell_type": "markdown",
   "metadata": {},
   "source": [
    "# TESTES"
   ]
  },
  {
   "cell_type": "code",
   "execution_count": 18,
   "metadata": {
    "scrolled": false
   },
   "outputs": [
    {
     "data": {
      "text/plain": [
       "['what',\n",
       " 'are',\n",
       " 'the',\n",
       " 'effects',\n",
       " 'of',\n",
       " 'calcium',\n",
       " 'on',\n",
       " 'the',\n",
       " 'physical',\n",
       " 'properties',\n",
       " 'of',\n",
       " 'mucus',\n",
       " 'from',\n",
       " 'cf',\n",
       " 'patients']"
      ]
     },
     "execution_count": 18,
     "metadata": {},
     "output_type": "execute_result"
    }
   ],
   "source": [
    "pergunta = 'What are the effects of calcium on the physical properties of mucus from CF patients?'.strip(string.punctuation).lower().split()\n",
    "pergunta"
   ]
  },
  {
   "cell_type": "code",
   "execution_count": 19,
   "metadata": {},
   "outputs": [
    {
     "name": "stdout",
     "output_type": "stream",
     "text": [
      "[['cf74', 3], ['cf75', 1], ['cf76', 4], ['cf77', 3], ['cf78', 5], ['cf79', 5]]\n",
      "[['cf74', 109], ['cf75', 116], ['cf76', 166], ['cf77', 89], ['cf78', 112], ['cf79', 144]]\n",
      "[['cf74', 1336], ['cf75', 1704], ['cf76', 1931], ['cf77', 1578], ['cf78', 1497], ['cf79', 1992]]\n",
      "[['cf74', 11], ['cf75', 19], ['cf76', 26], ['cf77', 24], ['cf78', 19], ['cf79', 28]]\n",
      "[['cf74', 1252], ['cf75', 1531], ['cf76', 1791], ['cf77', 1420], ['cf78', 1346], ['cf79', 1829]]\n",
      "[['cf74', 16], ['cf75', 4], ['cf76', 45], ['cf77', 8], ['cf78', 24], ['cf79', 17]]\n",
      "[['cf74', 96], ['cf75', 110], ['cf76', 132], ['cf77', 112], ['cf78', 104], ['cf79', 152]]\n",
      "[['cf74', 1336], ['cf75', 1704], ['cf76', 1931], ['cf77', 1578], ['cf78', 1497], ['cf79', 1992]]\n",
      "[['cf74', 7], ['cf75', 4], ['cf76', 10], ['cf77', 9], ['cf78', 6], ['cf79', 9]]\n",
      "[['cf74', 8], ['cf75', 9], ['cf76', 13], ['cf77', 3], ['cf78', 13], ['cf79', 7]]\n",
      "[['cf74', 1252], ['cf75', 1531], ['cf76', 1791], ['cf77', 1420], ['cf78', 1346], ['cf79', 1829]]\n",
      "[['cf74', 12], ['cf75', 15], ['cf76', 59], ['cf77', 24], ['cf78', 33], ['cf79', 12]]\n",
      "[['cf74', 163], ['cf75', 211], ['cf76', 312], ['cf77', 190], ['cf78', 203], ['cf79', 226]]\n",
      "[['cf74', 128], ['cf75', 161], ['cf76', 262], ['cf77', 208], ['cf78', 261], ['cf79', 332]]\n",
      "[['cf74', 273], ['cf75', 391], ['cf76', 347], ['cf77', 345], ['cf78', 336], ['cf79', 459]]\n"
     ]
    }
   ],
   "source": [
    "for w in pergunta:\n",
    "    print(voc[w])"
   ]
  },
  {
   "cell_type": "code",
   "execution_count": null,
   "metadata": {},
   "outputs": [],
   "source": []
  }
 ],
 "metadata": {
  "kernelspec": {
   "display_name": "Python 3",
   "language": "python",
   "name": "python3"
  },
  "language_info": {
   "codemirror_mode": {
    "name": "ipython",
    "version": 3
   },
   "file_extension": ".py",
   "mimetype": "text/x-python",
   "name": "python",
   "nbconvert_exporter": "python",
   "pygments_lexer": "ipython3",
   "version": "3.6.1"
  },
  "widgets": {
   "application/vnd.jupyter.widget-state+json": {
    "state": {},
    "version_major": 2,
    "version_minor": 0
   }
  }
 },
 "nbformat": 4,
 "nbformat_minor": 2
}
