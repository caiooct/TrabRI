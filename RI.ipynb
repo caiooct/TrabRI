{
 "cells": [
  {
   "cell_type": "code",
   "execution_count": 193,
   "metadata": {
    "scrolled": false
   },
   "outputs": [
    {
     "ename": "KeyError",
     "evalue": "'hl-a'",
     "output_type": "error",
     "traceback": [
      "\u001b[0;31m---------------------------------------------------------------------------\u001b[0m",
      "\u001b[0;31mKeyError\u001b[0m                                  Traceback (most recent call last)",
      "\u001b[0;32m<ipython-input-193-fb71890458b5>\u001b[0m in \u001b[0;36m<module>\u001b[0;34m()\u001b[0m\n\u001b[1;32m     73\u001b[0m         \u001b[0;32mtry\u001b[0m\u001b[0;34m:\u001b[0m\u001b[0;34m\u001b[0m\u001b[0m\n\u001b[0;32m---> 74\u001b[0;31m             \u001b[0mvoc\u001b[0m\u001b[0;34m[\u001b[0m\u001b[0mw\u001b[0m\u001b[0;34m]\u001b[0m\u001b[0;34m[\u001b[0m\u001b[0mi\u001b[0m\u001b[0;34m]\u001b[0m\u001b[0;34m[\u001b[0m\u001b[0;36m1\u001b[0m\u001b[0;34m]\u001b[0m \u001b[0;34m+=\u001b[0m \u001b[0;36m1\u001b[0m\u001b[0;34m\u001b[0m\u001b[0m\n\u001b[0m\u001b[1;32m     75\u001b[0m         \u001b[0;32mexcept\u001b[0m\u001b[0;34m:\u001b[0m\u001b[0;34m\u001b[0m\u001b[0m\n",
      "\u001b[0;31mKeyError\u001b[0m: 'hl-a'",
      "\nDuring handling of the above exception, another exception occurred:\n",
      "\u001b[0;31mKeyError\u001b[0m                                  Traceback (most recent call last)",
      "\u001b[0;32m<ipython-input-193-fb71890458b5>\u001b[0m in \u001b[0;36m<module>\u001b[0;34m()\u001b[0m\n\u001b[1;32m     76\u001b[0m             \u001b[0;32mtry\u001b[0m\u001b[0;34m:\u001b[0m\u001b[0;34m\u001b[0m\u001b[0m\n\u001b[0;32m---> 77\u001b[0;31m                 \u001b[0mvoc\u001b[0m\u001b[0;34m[\u001b[0m\u001b[0mw\u001b[0m\u001b[0;34m]\u001b[0m\u001b[0;34m.\u001b[0m\u001b[0mappend\u001b[0m\u001b[0;34m(\u001b[0m\u001b[0;34m[\u001b[0m\u001b[0mcfcs\u001b[0m\u001b[0;34m[\u001b[0m\u001b[0mi\u001b[0m\u001b[0;34m]\u001b[0m\u001b[0;34m,\u001b[0m\u001b[0;36m1\u001b[0m\u001b[0;34m]\u001b[0m\u001b[0;34m)\u001b[0m\u001b[0;34m\u001b[0m\u001b[0m\n\u001b[0m\u001b[1;32m     78\u001b[0m             \u001b[0;32mexcept\u001b[0m\u001b[0;34m:\u001b[0m\u001b[0;34m\u001b[0m\u001b[0m\n",
      "\u001b[0;31mKeyError\u001b[0m: 'hl-a'",
      "\nDuring handling of the above exception, another exception occurred:\n",
      "\u001b[0;31mKeyError\u001b[0m                                  Traceback (most recent call last)",
      "\u001b[0;32m<ipython-input-193-fb71890458b5>\u001b[0m in \u001b[0;36m<module>\u001b[0;34m()\u001b[0m\n\u001b[1;32m     77\u001b[0m                 \u001b[0mvoc\u001b[0m\u001b[0;34m[\u001b[0m\u001b[0mw\u001b[0m\u001b[0;34m]\u001b[0m\u001b[0;34m.\u001b[0m\u001b[0mappend\u001b[0m\u001b[0;34m(\u001b[0m\u001b[0;34m[\u001b[0m\u001b[0mcfcs\u001b[0m\u001b[0;34m[\u001b[0m\u001b[0mi\u001b[0m\u001b[0;34m]\u001b[0m\u001b[0;34m,\u001b[0m\u001b[0;36m1\u001b[0m\u001b[0;34m]\u001b[0m\u001b[0;34m)\u001b[0m\u001b[0;34m\u001b[0m\u001b[0m\n\u001b[1;32m     78\u001b[0m             \u001b[0;32mexcept\u001b[0m\u001b[0;34m:\u001b[0m\u001b[0;34m\u001b[0m\u001b[0m\n\u001b[0;32m---> 79\u001b[0;31m                 \u001b[0mvoc\u001b[0m\u001b[0;34m[\u001b[0m\u001b[0mw\u001b[0m\u001b[0;34m]\u001b[0m\u001b[0;34m[\u001b[0m\u001b[0mi\u001b[0m\u001b[0;34m]\u001b[0m \u001b[0;34m=\u001b[0m \u001b[0;34m[\u001b[0m\u001b[0;34m]\u001b[0m\u001b[0;34m\u001b[0m\u001b[0m\n\u001b[0m\u001b[1;32m     80\u001b[0m                 \u001b[0mvoc\u001b[0m\u001b[0;34m[\u001b[0m\u001b[0mw\u001b[0m\u001b[0;34m]\u001b[0m\u001b[0;34m.\u001b[0m\u001b[0mappend\u001b[0m\u001b[0;34m(\u001b[0m\u001b[0;34m[\u001b[0m\u001b[0mcfcs\u001b[0m\u001b[0;34m[\u001b[0m\u001b[0mi\u001b[0m\u001b[0;34m]\u001b[0m\u001b[0;34m,\u001b[0m\u001b[0;36m1\u001b[0m\u001b[0;34m]\u001b[0m\u001b[0;34m)\u001b[0m\u001b[0;34m\u001b[0m\u001b[0m\n\u001b[1;32m     81\u001b[0m             \u001b[0;32mfinally\u001b[0m\u001b[0;34m:\u001b[0m\u001b[0;34m\u001b[0m\u001b[0m\n",
      "\u001b[0;31mKeyError\u001b[0m: 'hl-a'"
     ]
    }
   ],
   "source": [
    "cfcs = ['cf74','cf75','cf76','cf77','cf78','cf79']\n",
    "vocabularios = [{}]\n",
    "palavras = []\n",
    "voc = {}\n",
    "for i in range(0,2):\n",
    "    arq = open('cfc/' + cfcs[i])\n",
    "    documentos = arq.read()\n",
    "    documentos = documentos.split('\\n\\n')\n",
    "    \n",
    "    for documento in documentos:\n",
    "        if \"\u001a\" in documento:\n",
    "            break\n",
    "        if len(documento) < 5:\n",
    "            #print('erru')\n",
    "            continue\n",
    "        else:\n",
    "            try:\n",
    "                autor = documento[documento.index('\\nAU')+3:documento.index('\\nTI')].split()\n",
    "            except:\n",
    "                autor = []\n",
    "            try:\n",
    "                title = documento[documento.index('\\nTI')+3:documento.index('\\nSO')].split()\n",
    "            except:\n",
    "                title = []\n",
    "            try:\n",
    "                fonte = documento[documento.index('\\nSO')+3:documento.index('\\nMJ')].split()\n",
    "            except:\n",
    "                fonte = []\n",
    "            try:\n",
    "                mj = documento[documento.index('\\nMJ')+3:documento.index('\\nMN')].split()\n",
    "            except:\n",
    "                mj = []\n",
    "\n",
    "            try:\n",
    "                mn = documento[documento.index('MN')+3:documento.index('\\nAB')].split()\n",
    "            except:\n",
    "                mn = documento[documento.index('MN')+3:documento.index('\\nEX')].split() \n",
    "\n",
    "\n",
    "            try:\n",
    "                try:\n",
    "                    ab = documento[documento.index('\\nAB')+3:documento.index('\\nRF')].split()\n",
    "                except:\n",
    "                    ab = documento[documento.index('\\nAB')+3:documento.index('\\nCT')].split()                  \n",
    "            except:\n",
    "                try:\n",
    "                    ab = documento[documento.index('\\nEX')+3:documento.index('\\nRF')].split()\n",
    "                except:\n",
    "                    try:\n",
    "                        ab = documento[documento.index('\\nEX')+3:].split()\n",
    "                    except:\n",
    "                        ab = documento[documento.index('\\nAB')+3:].split()\n",
    "\n",
    "            #print(autor + title + fonte + mj + mn + ab)\n",
    "            #print(title)\n",
    "            #print(autor)\n",
    "            #print(fonte)\n",
    "            #print(mj)\n",
    "            #print(mn)\n",
    "            #print(ab)\n",
    "            #print(cfcs[i])\n",
    "        \n",
    "    for w in title:\n",
    "        w = w.lower()\n",
    "        if '.' in w[len(w)-1]:\n",
    "            w = w.replace('.','')\n",
    "        if ':' in w[len(w)-1]:\n",
    "            w = w.replace(':','')\n",
    "        if '(' in w[0] and ')' not in w[len(w)-1]:\n",
    "            w = w[1:]\n",
    "        if ')' in w[len(w)-1] and '(' not in w[0]:\n",
    "            w = w[:len(w)-1]\n",
    "        try:\n",
    "            voc[w][i][1] += 1\n",
    "        except:\n",
    "            try:\n",
    "                voc[w].append([cfcs[i],1])\n",
    "            except:\n",
    "                voc[w][i] = []\n",
    "                voc[w].append([cfcs[i],1])\n",
    "            finally:\n",
    "                palavras.append(w)\n",
    "            \n",
    "    vocabularios.insert(i,voc)"
   ]
  },
  {
   "cell_type": "code",
   "execution_count": 191,
   "metadata": {},
   "outputs": [
    {
     "data": {
      "text/plain": [
       "{'hl-a': [['cf77', 2], ['cf78', 2], 2]}"
      ]
     },
     "execution_count": 191,
     "metadata": {},
     "output_type": "execute_result"
    }
   ],
   "source": [
    "a = {}\n",
    "#a = {'hl-a': None}\n",
    "a['hl-a'] = [['cf77',1]]\n",
    "a['hl-a'].append(['cf78',2])\n",
    "a['hl-a'][0][1] += 1\n",
    "a['hl-a'].append(2)\n",
    "a"
   ]
  },
  {
   "cell_type": "code",
   "execution_count": 83,
   "metadata": {},
   "outputs": [
    {
     "name": "stdout",
     "output_type": "stream",
     "text": [
      "['cf78', 1]\n"
     ]
    }
   ],
   "source": [
    "for i in range(0,6):\n",
    "    try:\n",
    "        print(vocabularios[i]['children'])\n",
    "    except:\n",
    "        continue"
   ]
  },
  {
   "cell_type": "code",
   "execution_count": 116,
   "metadata": {},
   "outputs": [
    {
     "data": {
      "text/plain": [
       "'frqw:'"
      ]
     },
     "execution_count": 116,
     "metadata": {},
     "output_type": "execute_result"
    }
   ],
   "source": [
    "a = ['caop','octa','frq']\n",
    "b = ['balbi','kael']\n",
    "a = 'frqw:'\n",
    "a"
   ]
  },
  {
   "cell_type": "code",
   "execution_count": 123,
   "metadata": {},
   "outputs": [
    {
     "data": {
      "text/plain": [
       "''"
      ]
     },
     "execution_count": 123,
     "metadata": {},
     "output_type": "execute_result"
    }
   ],
   "source": [
    "a = a[:len(a)-1]\n",
    "a"
   ]
  },
  {
   "cell_type": "code",
   "execution_count": null,
   "metadata": {},
   "outputs": [],
   "source": []
  }
 ],
 "metadata": {
  "kernelspec": {
   "display_name": "Python 3",
   "language": "python",
   "name": "python3"
  },
  "language_info": {
   "codemirror_mode": {
    "name": "ipython",
    "version": 3
   },
   "file_extension": ".py",
   "mimetype": "text/x-python",
   "name": "python",
   "nbconvert_exporter": "python",
   "pygments_lexer": "ipython3",
   "version": "3.6.1"
  },
  "widgets": {
   "application/vnd.jupyter.widget-state+json": {
    "state": {},
    "version_major": 2,
    "version_minor": 0
   }
  }
 },
 "nbformat": 4,
 "nbformat_minor": 2
}
