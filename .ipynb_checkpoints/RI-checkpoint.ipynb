{
 "cells": [
  {
   "cell_type": "code",
   "execution_count": 86,
   "metadata": {
    "scrolled": false
   },
   "outputs": [
    {
     "data": {
      "text/plain": [
       "[{'hl-a': ['cf74', 1],\n",
       "  'antigens': ['cf74', 1],\n",
       "  'in': ['cf74', 1],\n",
       "  'cystic': ['cf74', 1],\n",
       "  'fibrosis.': ['cf74', 1]},\n",
       " {'isoenzymes': ['cf75', 1],\n",
       "  'of': ['cf75', 2],\n",
       "  'alkaline': ['cf75', 1],\n",
       "  'phosphatase': ['cf75', 1],\n",
       "  'in': ['cf75', 1],\n",
       "  'the': ['cf75', 1],\n",
       "  'serum': ['cf75', 1],\n",
       "  'patients': ['cf75', 1],\n",
       "  'with': ['cf75', 1],\n",
       "  'cystic': ['cf75', 1],\n",
       "  'fibrosis.': ['cf75', 1]},\n",
       " {\"crohn's\": ['cf76', 1],\n",
       "  'disease': ['cf76', 1],\n",
       "  '-': ['cf76', 1],\n",
       "  'a': ['cf76', 1],\n",
       "  'cause': ['cf76', 1],\n",
       "  'of': ['cf76', 1],\n",
       "  'arthritis,': ['cf76', 1],\n",
       "  'oxalate': ['cf76', 1],\n",
       "  'stones': ['cf76', 1],\n",
       "  'and': ['cf76', 1],\n",
       "  'fistulae': ['cf76', 1],\n",
       "  'in': ['cf76', 1],\n",
       "  'cystic': ['cf76', 1],\n",
       "  'fibrosis.': ['cf76', 1]},\n",
       " {'cystic': ['cf77', 1],\n",
       "  'fibrosis': ['cf77', 1],\n",
       "  'in': ['cf77', 1],\n",
       "  'an': ['cf77', 1],\n",
       "  'infant': ['cf77', 1],\n",
       "  'presenting': ['cf77', 1],\n",
       "  'with': ['cf77', 1],\n",
       "  'metabolic': ['cf77', 1],\n",
       "  'alkalosis.': ['cf77', 1]},\n",
       " {'mucopolysaccharides': ['cf78', 1],\n",
       "  'in': ['cf78', 1],\n",
       "  'bronchial': ['cf78', 1],\n",
       "  'secretion': ['cf78', 1],\n",
       "  'of': ['cf78', 1],\n",
       "  'children.': ['cf78', 1]},\n",
       " {'deficiencies': ['cf79', 1],\n",
       "  'of': ['cf79', 1],\n",
       "  'essential': ['cf79', 1],\n",
       "  'fatty': ['cf79', 1],\n",
       "  'acids': ['cf79', 1],\n",
       "  'and': ['cf79', 1],\n",
       "  'vitamin': ['cf79', 1],\n",
       "  'e': ['cf79', 1],\n",
       "  'in': ['cf79', 1],\n",
       "  'cystic': ['cf79', 1],\n",
       "  'fibrosis.': ['cf79', 1]},\n",
       " {}]"
      ]
     },
     "execution_count": 86,
     "metadata": {},
     "output_type": "execute_result"
    }
   ],
   "source": [
    "cfcs = ['cf74','cf75','cf76','cf77','cf78','cf79']\n",
    "vocabularios = [{}]\n",
    "\n",
    "for i in range(0,6):\n",
    "    voc = {}\n",
    "    arq = open('cfc/' + cfcs[i])\n",
    "    documentos = arq.read()\n",
    "    documentos = documentos.split('\\n\\n')\n",
    "    \n",
    "    for documento in documentos:\n",
    "        if \"\u001a\" in documento:\n",
    "            break\n",
    "        if len(documento) < 5:\n",
    "            #print('erru')\n",
    "            continue\n",
    "        else:\n",
    "            try:\n",
    "                autor = documento[documento.index('\\nAU')+3:documento.index('\\nTI')].split()\n",
    "            except:\n",
    "                autor = []\n",
    "            try:\n",
    "                title = documento[documento.index('\\nTI')+3:documento.index('\\nSO')].split()\n",
    "            except:\n",
    "                title = []\n",
    "            try:\n",
    "                fonte = documento[documento.index('\\nSO')+3:documento.index('\\nMJ')].split()\n",
    "            except:\n",
    "                fonte = []\n",
    "            try:\n",
    "                mj = documento[documento.index('\\nMJ')+3:documento.index('\\nMN')].split()\n",
    "            except:\n",
    "                mj = []\n",
    "\n",
    "            try:\n",
    "                mn = documento[documento.index('MN')+3:documento.index('\\nAB')].split()\n",
    "            except:\n",
    "                mn = documento[documento.index('MN')+3:documento.index('\\nEX')].split() \n",
    "\n",
    "\n",
    "            try:\n",
    "                try:\n",
    "                    ab = documento[documento.index('\\nAB')+3:documento.index('\\nRF')].split()\n",
    "                except:\n",
    "                    ab = documento[documento.index('\\nAB')+3:documento.index('\\nCT')].split()                  \n",
    "            except:\n",
    "                try:\n",
    "                    ab = documento[documento.index('\\nEX')+3:documento.index('\\nRF')].split()\n",
    "                except:\n",
    "                    try:\n",
    "                        ab = documento[documento.index('\\nEX')+3:].split()\n",
    "                    except:\n",
    "                        ab = documento[documento.index('\\nAB')+3:].split()\n",
    "\n",
    "\n",
    "            #print(title)\n",
    "            #print(autor)\n",
    "            #print(fonte)\n",
    "            #print(mj)\n",
    "            #print(mn)\n",
    "            #print(ab)\n",
    "            #print(cfcs[i])\n",
    "        \n",
    "    for w in title:\n",
    "        w = w.lower()\n",
    "        try:\n",
    "            voc[w][1] += 1\n",
    "        except:\n",
    "            voc[w] = [cfcs[i],1]\n",
    "            \n",
    "    vocabularios.insert(i,voc)\n",
    "    \n",
    "    \n",
    "vocabularios"
   ]
  },
  {
   "cell_type": "code",
   "execution_count": 91,
   "metadata": {},
   "outputs": [
    {
     "data": {
      "text/plain": [
       "False"
      ]
     },
     "execution_count": 91,
     "metadata": {},
     "output_type": "execute_result"
    }
   ],
   "source": [
    "'65 '.isdigit()"
   ]
  },
  {
   "cell_type": "code",
   "execution_count": 92,
   "metadata": {},
   "outputs": [],
   "source": [
    "ok = [title, autor]"
   ]
  },
  {
   "cell_type": "code",
   "execution_count": 95,
   "metadata": {},
   "outputs": [
    {
     "name": "stdout",
     "output_type": "stream",
     "text": [
      "Deficiencies\n",
      "of\n",
      "essential\n",
      "fatty\n",
      "acids\n",
      "and\n",
      "vitamin\n",
      "E\n",
      "in\n",
      "cystic\n",
      "fibrosis.\n",
      "Bohles-H.\n",
      "Heid-H.\n",
      "Stehr-K.\n",
      "Fekl-W.\n"
     ]
    }
   ],
   "source": [
    "for x in ok:\n",
    "    for nx in x:\n",
    "        print(nx)"
   ]
  },
  {
   "cell_type": "code",
   "execution_count": null,
   "metadata": {},
   "outputs": [],
   "source": []
  }
 ],
 "metadata": {
  "kernelspec": {
   "display_name": "Python 3",
   "language": "python",
   "name": "python3"
  },
  "language_info": {
   "codemirror_mode": {
    "name": "ipython",
    "version": 3
   },
   "file_extension": ".py",
   "mimetype": "text/x-python",
   "name": "python",
   "nbconvert_exporter": "python",
   "pygments_lexer": "ipython3",
   "version": "3.6.5"
  },
  "widgets": {
   "application/vnd.jupyter.widget-state+json": {
    "state": {},
    "version_major": 2,
    "version_minor": 0
   }
  }
 },
 "nbformat": 4,
 "nbformat_minor": 2
}
